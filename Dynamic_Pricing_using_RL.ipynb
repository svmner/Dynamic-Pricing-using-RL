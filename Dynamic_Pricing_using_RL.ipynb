{
 "cells": [
  {
   "cell_type": "markdown",
   "metadata": {
    "id": "D0qcRrKCq4zz"
   },
   "source": [
    "# 1. Import Libraries"
   ]
  },
  {
   "cell_type": "code",
   "execution_count": 19,
   "metadata": {
    "id": "aEqyF3Afq4z0"
   },
   "outputs": [],
   "source": [
    "# Import necessary libraries\n",
    "import numpy as np\n",
    "import pandas as pd\n",
    "import matplotlib.pyplot as plt\n",
    "from collections import deque\n",
    "import random\n",
    "import torch\n",
    "import torch.nn as nn\n",
    "import torch.optim as optim\n",
    "import torch.nn.functional as F\n",
    "\n",
    "%matplotlib inline"
   ]
  },
  {
   "cell_type": "markdown",
   "metadata": {
    "id": "Oey1aT7Qq4z1"
   },
   "source": [
    "# 2. Environment Setup"
   ]
  },
  {
   "cell_type": "markdown",
   "metadata": {
    "id": "u_jxQXGgq4z1"
   },
   "source": [
    "#### 2.1 Define Products and Market Dynamics"
   ]
  },
  {
   "cell_type": "code",
   "execution_count": 20,
   "metadata": {
    "id": "o7jyb8YKq4z2"
   },
   "outputs": [],
   "source": [
    "# Define the products\n",
    "products = {\n",
    "    'Product A': {'cost': 30, 'base_price': 50},\n",
    "    'Product B': {'cost': 20, 'base_price': 40},\n",
    "    'Product C': {'cost': 50, 'base_price': 80},\n",
    "    'Product D': {'cost': 15, 'base_price': 25},\n",
    "    'Product E': {'cost': 100, 'base_price': 150},\n",
    "}\n",
    "\n",
    "# Define price ranges for each product\n",
    "for product in products.keys():\n",
    "    products[product]['min_price'] = products[product]['cost'] * 1.1  # Minimum price is 10% above cost\n",
    "    products[product]['max_price'] = products[product]['base_price'] * 1.5  # Max price is 50% above base price\n",
    "\n",
    "# Define market dynamics with price sensitivity\n",
    "market_dynamics = {\n",
    "    'Product A': {'max_demand': 500, 'price_sensitivity': 0.05, 'sigma': 20},\n",
    "    'Product B': {'max_demand': 300, 'price_sensitivity': 0.04, 'sigma': 15},\n",
    "    'Product C': {'max_demand': 200, 'price_sensitivity': 0.06, 'sigma': 10},\n",
    "    'Product D': {'max_demand': 800, 'price_sensitivity': 0.03, 'sigma': 25},\n",
    "    'Product E': {'max_demand': 100, 'price_sensitivity': 0.08, 'sigma': 5},\n",
    "}\n",
    "\n",
    "# Time periods (e.g., days)\n",
    "time_periods = 365  # One year\n"
   ]
  },
  {
   "cell_type": "markdown",
   "metadata": {
    "id": "wj9SV2ewq4z2"
   },
   "source": [
    "#### 2.1 Simulate Customer Behavior"
   ]
  },
  {
   "cell_type": "code",
   "execution_count": 21,
   "metadata": {
    "id": "Eydp_Kyqq4z2"
   },
   "outputs": [],
   "source": [
    "def calculate_demand(product, price):\n",
    "    dynamics = market_dynamics[product]\n",
    "    max_demand = dynamics['max_demand']\n",
    "    price_sensitivity = dynamics['price_sensitivity']\n",
    "    sigma = dynamics['sigma']\n",
    "\n",
    "    # Exponential decay demand function\n",
    "    base_demand = max_demand * np.exp(-price_sensitivity * price)\n",
    "    random_fluctuation = np.random.normal(0, sigma)\n",
    "    demand = base_demand + random_fluctuation\n",
    "    demand = max(demand, 0)\n",
    "    return demand\n"
   ]
  },
  {
   "cell_type": "markdown",
   "metadata": {
    "id": "aHBDf4Lxq4z2"
   },
   "source": [
    "# 3. Reinforcement Learning Framework"
   ]
  },
  {
   "cell_type": "markdown",
   "metadata": {
    "id": "ftXH6Otnq4z2"
   },
   "source": [
    "#### 3.1 State, Action, and Reward Definitions\n",
    "\n",
    "* **State** : A vector containing current prices for all products.\n",
    "* **Action** : A vector of price adjustments for all products.\n",
    "* **Reward** : Total profit across all products for the current time step.\n"
   ]
  },
  {
   "cell_type": "markdown",
   "metadata": {
    "id": "SdoJxAYeq4z2"
   },
   "source": [
    "# 4. Implement the Environment"
   ]
  },
  {
   "cell_type": "code",
   "execution_count": 22,
   "metadata": {
    "id": "Tpcz4vu4q4z3"
   },
   "outputs": [],
   "source": [
    "class PricingEnvironment:\n",
    "    def __init__(self, products, market_dynamics):\n",
    "        self.products = products\n",
    "        self.market_dynamics = market_dynamics\n",
    "        self.reset()\n",
    "\n",
    "    def reset(self):\n",
    "        # Initialize prices to base prices\n",
    "        self.current_prices = {p: info['base_price'] for p, info in self.products.items()}\n",
    "        self.time_step = 0\n",
    "        self.done = False\n",
    "        return self._get_state()\n",
    "\n",
    "    def _get_state(self):\n",
    "        # State is the current prices of all products\n",
    "        state = np.array(list(self.current_prices.values()), dtype=np.float32)\n",
    "        return state\n",
    "\n",
    "    def step(self, action):\n",
    "        # Apply action (price adjustments)\n",
    "        for idx, product in enumerate(self.products.keys()):\n",
    "            self.current_prices[product] += action[idx]\n",
    "            # Ensure prices are within bounds\n",
    "            min_price = self.products[product]['min_price']\n",
    "            max_price = self.products[product]['max_price']\n",
    "            self.current_prices[product] = np.clip(self.current_prices[product], min_price, max_price)\n",
    "\n",
    "        # Calculate reward (profit)\n",
    "        total_profit = 0\n",
    "        sales = {}\n",
    "        for product in self.products.keys():\n",
    "            price = self.current_prices[product]\n",
    "            cost = self.products[product]['cost']\n",
    "            demand = calculate_demand(product, price)\n",
    "            profit = (price - cost) * demand\n",
    "            total_profit += profit\n",
    "            sales[product] = demand\n",
    "\n",
    "        # Optional: Include penalty for low sales volume\n",
    "        total_units_sold = sum(sales.values())\n",
    "        expected_units_sold = sum([self.market_dynamics[p]['max_demand'] for p in self.products.keys()])\n",
    "        penalty_factor = 0.1  # Adjust as needed\n",
    "        total_profit -= penalty_factor * (expected_units_sold - total_units_sold)\n",
    "\n",
    "        # Update time step\n",
    "        self.time_step += 1\n",
    "        if self.time_step >= time_periods:\n",
    "            self.done = True\n",
    "\n",
    "        # Get next state\n",
    "        next_state = self._get_state()\n",
    "\n",
    "        # Additional info for analysis\n",
    "        info = {\n",
    "            'profit': total_profit,\n",
    "            'sales': sales,\n",
    "            'prices': self.current_prices.copy()\n",
    "        }\n",
    "\n",
    "        return next_state, total_profit, self.done, info\n"
   ]
  },
  {
   "cell_type": "markdown",
   "metadata": {
    "id": "CqBXSIv8q4z3"
   },
   "source": [
    "# 5. Develop the RL Agent"
   ]
  },
  {
   "cell_type": "markdown",
   "metadata": {
    "id": "JrLdF55_q4z3"
   },
   "source": [
    "We'll use a **Deep Q-Network (DQN)** with an experience replay buffer."
   ]
  },
  {
   "cell_type": "markdown",
   "metadata": {
    "id": "C7RnoWt0q4z3"
   },
   "source": [
    "#### 5.1 Define the Neural Network"
   ]
  },
  {
   "cell_type": "code",
   "execution_count": 23,
   "metadata": {
    "id": "kLHkHtAFq4z3"
   },
   "outputs": [],
   "source": [
    "class DQNAgent(nn.Module):\n",
    "    def __init__(self, state_size, num_products, num_actions_per_product, hidden_size=128):\n",
    "        super(DQNAgent, self).__init__()\n",
    "        self.num_products = num_products\n",
    "        self.num_actions_per_product = num_actions_per_product\n",
    "        self.fc1 = nn.Linear(state_size, hidden_size)\n",
    "        self.fc2 = nn.Linear(hidden_size, hidden_size)\n",
    "        self.out = nn.Linear(hidden_size, num_products * num_actions_per_product)\n",
    "\n",
    "    def forward(self, state):\n",
    "        x = F.relu(self.fc1(state))\n",
    "        x = F.relu(self.fc2(x))\n",
    "        return self.out(x)\n"
   ]
  },
  {
   "cell_type": "markdown",
   "metadata": {
    "id": "SoCNN9Bxq4z3"
   },
   "source": [
    "#### 5.1 Implement the Agent with Experience Replay"
   ]
  },
  {
   "cell_type": "code",
   "execution_count": 24,
   "metadata": {
    "id": "pOiEZA87q4z3"
   },
   "outputs": [],
   "source": [
    "class Agent:\n",
    "    def __init__(self, state_size, num_products, action_bins, gamma=0.99, lr=0.0001, batch_size=64, buffer_size=100000):\n",
    "        self.state_size = state_size\n",
    "        self.num_products = num_products\n",
    "        self.action_bins = action_bins  # Indices of actions\n",
    "        self.num_actions_per_product = len(action_bins)\n",
    "        self.gamma = gamma\n",
    "        self.lr = lr\n",
    "        self.batch_size = batch_size\n",
    "        self.buffer_size = buffer_size\n",
    "\n",
    "        # Initialize networks\n",
    "        self.policy_net = DQNAgent(state_size, num_products, self.num_actions_per_product)\n",
    "        self.target_net = DQNAgent(state_size, num_products, self.num_actions_per_product)\n",
    "        self.target_net.load_state_dict(self.policy_net.state_dict())\n",
    "        self.target_net.eval()\n",
    "\n",
    "        # Optimizer\n",
    "        self.optimizer = optim.Adam(self.policy_net.parameters(), lr=lr)\n",
    "\n",
    "        # Replay buffer\n",
    "        self.memory = deque(maxlen=buffer_size)\n",
    "\n",
    "        # Exploration parameters\n",
    "        self.epsilon = 1.0  # Starting exploration rate\n",
    "        self.epsilon_min = 0.1\n",
    "        self.epsilon_decay = 0.998  # Make this dynamic based on performance if needed\n",
    "\n",
    "    def select_action(self, state):\n",
    "        if np.random.rand() < self.epsilon:\n",
    "            # Explore: select random actions (indices)\n",
    "            return np.random.choice(self.num_actions_per_product, size=self.num_products)\n",
    "        else:\n",
    "            # Exploit: select best action for each product\n",
    "            state = torch.FloatTensor(state).unsqueeze(0)  # Add batch dimension\n",
    "            with torch.no_grad():\n",
    "                q_values = self.policy_net(state)\n",
    "            q_values = q_values.view(self.num_products, self.num_actions_per_product)\n",
    "            _, indices = torch.max(q_values, dim=1)\n",
    "            return indices.numpy()\n",
    "\n",
    "    def remember(self, state, action, reward, next_state, done):\n",
    "        self.memory.append((state, action, reward, next_state, done))\n",
    "\n",
    "    def replay(self):\n",
    "        if len(self.memory) < self.batch_size:\n",
    "            return  # Not enough samples\n",
    "\n",
    "        # Sample a batch\n",
    "        minibatch = random.sample(self.memory, self.batch_size)\n",
    "        state_batch = torch.FloatTensor([s[0] for s in minibatch])\n",
    "        action_batch = torch.LongTensor([s[1] for s in minibatch])  # Shape: [batch_size, num_products]\n",
    "        reward_batch = torch.FloatTensor([s[2] for s in minibatch])\n",
    "        next_state_batch = torch.FloatTensor([s[3] for s in minibatch])\n",
    "        done_batch = torch.FloatTensor([s[4] for s in minibatch])\n",
    "\n",
    "        # Compute Q values\n",
    "        q_values = self.policy_net(state_batch)  # Shape: [batch_size, num_products * num_actions_per_product]\n",
    "        q_values = q_values.view(-1, self.num_products, self.num_actions_per_product)\n",
    "\n",
    "        # Gather the Q-values for the actions taken\n",
    "        action_batch = action_batch.unsqueeze(-1)  # Shape: [batch_size, num_products, 1]\n",
    "        q_values = q_values.gather(2, action_batch).squeeze(-1)  # Shape: [batch_size, num_products]\n",
    "\n",
    "        # Compute target Q values\n",
    "        with torch.no_grad():\n",
    "            next_q_values = self.target_net(next_state_batch)\n",
    "            next_q_values = next_q_values.view(-1, self.num_products, self.num_actions_per_product)\n",
    "            max_next_q_values, _ = next_q_values.max(dim=2)  # Shape: [batch_size, num_products]\n",
    "\n",
    "        expected_q_values = reward_batch.unsqueeze(1) + (1 - done_batch.unsqueeze(1)) * self.gamma * max_next_q_values\n",
    "\n",
    "        # Compute loss\n",
    "        loss = F.mse_loss(q_values, expected_q_values)\n",
    "\n",
    "        # Optimize the model\n",
    "        self.optimizer.zero_grad()\n",
    "        loss.backward()\n",
    "        self.optimizer.step()\n",
    "\n",
    "        # Update exploration rate\n",
    "        if self.epsilon > self.epsilon_min:\n",
    "            self.epsilon *= self.epsilon_decay  # Consider adjusting this decay based on learning progress or profit variance.\n",
    "\n",
    "    def update_target_network(self):\n",
    "        self.target_net.load_state_dict(self.policy_net.state_dict())\n",
    "\n"
   ]
  },
  {
   "cell_type": "markdown",
   "metadata": {
    "id": "LcuoVp0Bq4z4"
   },
   "source": [
    "# 6. Training the Agent"
   ]
  },
  {
   "cell_type": "markdown",
   "metadata": {
    "id": "_QXYDx5iq4z4"
   },
   "source": [
    "#### 6.1 Define Action Space"
   ]
  },
  {
   "cell_type": "markdown",
   "metadata": {
    "id": "NqKLeK2Vq4z4"
   },
   "source": [
    "For each product, we'll allow price adjustments un discrete steps"
   ]
  },
  {
   "cell_type": "code",
   "execution_count": 25,
   "metadata": {
    "id": "9jAubSOSq4z4"
   },
   "outputs": [],
   "source": [
    "# Define finer action bins for price adjustments\n",
    "price_steps = [-2, -1, 0, 1, 2]  # Smaller adjustments\n",
    "num_products = len(products)\n",
    "action_size = num_products\n",
    "action_bins = price_steps\n",
    "state_size = num_products\n"
   ]
  },
  {
   "cell_type": "markdown",
   "metadata": {
    "id": "RPgg576uq4z5"
   },
   "source": [
    "#### 6.2 Training Loop"
   ]
  },
  {
   "cell_type": "code",
   "execution_count": 26,
   "metadata": {
    "colab": {
     "base_uri": "https://localhost:8080/"
    },
    "id": "Er8c4RBIq4z5",
    "outputId": "7cae344f-28b2-42e7-ff6e-e23b76679ffb"
   },
   "outputs": [
    {
     "name": "stdout",
     "output_type": "stream",
     "text": [
      "Episode 10/500, Total Profit: 2772705.59, Epsilon: 0.10\n",
      "Episode 20/500, Total Profit: 2858417.01, Epsilon: 0.10\n",
      "Episode 30/500, Total Profit: 2787920.01, Epsilon: 0.10\n",
      "Episode 40/500, Total Profit: 2778091.03, Epsilon: 0.10\n",
      "Episode 50/500, Total Profit: 2786935.76, Epsilon: 0.10\n",
      "Episode 60/500, Total Profit: 2815317.11, Epsilon: 0.10\n",
      "Episode 70/500, Total Profit: 2766686.70, Epsilon: 0.10\n",
      "Episode 80/500, Total Profit: 2797354.91, Epsilon: 0.10\n",
      "Episode 90/500, Total Profit: 2769594.51, Epsilon: 0.10\n",
      "Episode 100/500, Total Profit: 2678476.52, Epsilon: 0.10\n",
      "Episode 110/500, Total Profit: 2672203.96, Epsilon: 0.10\n",
      "Episode 120/500, Total Profit: 2788552.39, Epsilon: 0.10\n",
      "Episode 130/500, Total Profit: 2819337.23, Epsilon: 0.10\n",
      "Episode 140/500, Total Profit: 2829090.68, Epsilon: 0.10\n",
      "Episode 150/500, Total Profit: 2842750.19, Epsilon: 0.10\n",
      "Episode 160/500, Total Profit: 2813293.33, Epsilon: 0.10\n",
      "Episode 170/500, Total Profit: 2862544.25, Epsilon: 0.10\n",
      "Episode 180/500, Total Profit: 2828583.10, Epsilon: 0.10\n",
      "Episode 190/500, Total Profit: 2808096.73, Epsilon: 0.10\n",
      "Episode 200/500, Total Profit: 2751544.99, Epsilon: 0.10\n",
      "Episode 210/500, Total Profit: 2769113.59, Epsilon: 0.10\n",
      "Episode 220/500, Total Profit: 2824484.04, Epsilon: 0.10\n",
      "Episode 230/500, Total Profit: 2852543.21, Epsilon: 0.10\n",
      "Episode 240/500, Total Profit: 2890765.33, Epsilon: 0.10\n",
      "Episode 250/500, Total Profit: 2827314.11, Epsilon: 0.10\n",
      "Episode 260/500, Total Profit: 2788540.34, Epsilon: 0.10\n",
      "Episode 270/500, Total Profit: 2903760.70, Epsilon: 0.10\n",
      "Episode 280/500, Total Profit: 2863708.84, Epsilon: 0.10\n",
      "Episode 290/500, Total Profit: 2899912.72, Epsilon: 0.10\n",
      "Episode 300/500, Total Profit: 2884987.72, Epsilon: 0.10\n",
      "Episode 310/500, Total Profit: 2920295.18, Epsilon: 0.10\n",
      "Episode 320/500, Total Profit: 2839768.05, Epsilon: 0.10\n",
      "Episode 330/500, Total Profit: 2916980.73, Epsilon: 0.10\n",
      "Episode 340/500, Total Profit: 2937539.95, Epsilon: 0.10\n",
      "Episode 350/500, Total Profit: 2931789.67, Epsilon: 0.10\n",
      "Episode 360/500, Total Profit: 2914543.82, Epsilon: 0.10\n",
      "Episode 370/500, Total Profit: 2934739.79, Epsilon: 0.10\n",
      "Episode 380/500, Total Profit: 2930337.31, Epsilon: 0.10\n",
      "Episode 390/500, Total Profit: 2854964.69, Epsilon: 0.10\n",
      "Episode 400/500, Total Profit: 2813130.63, Epsilon: 0.10\n",
      "Episode 410/500, Total Profit: 2867407.59, Epsilon: 0.10\n",
      "Episode 420/500, Total Profit: 2925176.15, Epsilon: 0.10\n",
      "Episode 430/500, Total Profit: 2820244.60, Epsilon: 0.10\n",
      "Episode 440/500, Total Profit: 2906565.25, Epsilon: 0.10\n",
      "Episode 450/500, Total Profit: 2943018.07, Epsilon: 0.10\n",
      "Episode 460/500, Total Profit: 2869602.06, Epsilon: 0.10\n",
      "Episode 470/500, Total Profit: 2953993.13, Epsilon: 0.10\n",
      "Episode 480/500, Total Profit: 2948840.17, Epsilon: 0.10\n",
      "Episode 490/500, Total Profit: 2927816.09, Epsilon: 0.10\n",
      "Episode 500/500, Total Profit: 2913505.35, Epsilon: 0.10\n"
     ]
    }
   ],
   "source": [
    "# Initialize environment and agent\n",
    "env = PricingEnvironment(products, market_dynamics)\n",
    "agent = Agent(state_size=state_size, num_products=num_products, action_bins=list(range(len(price_steps))))\n",
    "\n",
    "# Training parameters\n",
    "num_episodes = 500\n",
    "target_update_freq = 10\n",
    "\n",
    "# Tracking metrics\n",
    "all_rewards = []\n",
    "all_profits = []\n",
    "all_epsilons = []\n",
    "\n",
    "for episode in range(num_episodes):\n",
    "    state = env.reset()\n",
    "    total_reward = 0\n",
    "    total_profit = 0\n",
    "    while not env.done:\n",
    "        # Select action indices\n",
    "        action_indices = agent.select_action(state)  # Indices\n",
    "        # Map indices to actual price adjustments\n",
    "        action = [price_steps[idx] for idx in action_indices]\n",
    "\n",
    "        # Take action in environment\n",
    "        next_state, reward, done, info = env.step(action)\n",
    "\n",
    "        # Remember experience\n",
    "        agent.remember(state, action_indices, reward, next_state, done)\n",
    "\n",
    "        # Replay and train\n",
    "        agent.replay()\n",
    "\n",
    "        # Update state\n",
    "        state = next_state\n",
    "        total_reward += reward\n",
    "        total_profit += info['profit']\n",
    "\n",
    "    # Update target network\n",
    "    if episode % target_update_freq == 0:\n",
    "        agent.update_target_network()\n",
    "\n",
    "    # Logging\n",
    "    all_rewards.append(total_reward)\n",
    "    all_profits.append(total_profit)\n",
    "    all_epsilons.append(agent.epsilon)\n",
    "    if (episode + 1) % 10 == 0:\n",
    "        print(f\"Episode {episode+1}/{num_episodes}, Total Profit: {total_profit:.2f}, Epsilon: {agent.epsilon:.2f}\")\n"
   ]
  },
  {
   "cell_type": "code",
   "execution_count": 27,
   "metadata": {
    "colab": {
     "base_uri": "https://localhost:8080/"
    },
    "id": "Uzc-lQYzq4z6",
    "outputId": "8dd21f97-a560-4d4d-b683-7a9f4017a8b1"
   },
   "outputs": [
    {
     "name": "stdout",
     "output_type": "stream",
     "text": [
      "Model saved successfully!\n"
     ]
    }
   ],
   "source": [
    "# After training loop\n",
    "torch.save(agent.policy_net.state_dict(), 'pricing_model.pth')\n",
    "print(\"Model saved successfully!\")"
   ]
  },
  {
   "cell_type": "code",
   "execution_count": 28,
   "metadata": {
    "colab": {
     "base_uri": "https://localhost:8080/"
    },
    "id": "VWfARbwAq4z6",
    "outputId": "8415016d-2c91-4b87-c7ba-3f1d18bd71ef"
   },
   "outputs": [
    {
     "name": "stdout",
     "output_type": "stream",
     "text": [
      "Model loaded successfully!\n"
     ]
    },
    {
     "name": "stderr",
     "output_type": "stream",
     "text": [
      "<ipython-input-28-eb520067f4b4>:2: FutureWarning: You are using `torch.load` with `weights_only=False` (the current default value), which uses the default pickle module implicitly. It is possible to construct malicious pickle data which will execute arbitrary code during unpickling (See https://github.com/pytorch/pytorch/blob/main/SECURITY.md#untrusted-models for more details). In a future release, the default value for `weights_only` will be flipped to `True`. This limits the functions that could be executed during unpickling. Arbitrary objects will no longer be allowed to be loaded via this mode unless they are explicitly allowlisted by the user via `torch.serialization.add_safe_globals`. We recommend you start setting `weights_only=True` for any use case where you don't have full control of the loaded file. Please open an issue on GitHub for any issues related to this experimental feature.\n",
      "  agent.policy_net.load_state_dict(torch.load('pricing_model.pth'))\n"
     ]
    }
   ],
   "source": [
    "agent = Agent(state_size=state_size, num_products=num_products, action_bins=list(range(len(price_steps))))\n",
    "agent.policy_net.load_state_dict(torch.load('pricing_model.pth'))\n",
    "agent.policy_net.eval()\n",
    "print(\"Model loaded successfully!\")\n"
   ]
  },
  {
   "cell_type": "markdown",
   "metadata": {
    "id": "1OEQ92KTq4z6"
   },
   "source": [
    "# 7. Evaluation"
   ]
  },
  {
   "cell_type": "markdown",
   "metadata": {
    "id": "s8EKCcuBq4z6"
   },
   "source": [
    "#### 7.1 Plot Training Progress"
   ]
  },
  {
   "cell_type": "code",
   "execution_count": 29,
   "metadata": {
    "colab": {
     "base_uri": "https://localhost:8080/",
     "height": 487
    },
    "id": "11HO5-gOq4z7",
    "outputId": "2ae69416-1e01-4450-e21e-704a581ac361"
   },
   "outputs": [
    {
     "data": {
      "image/png": "[encoded data removed]",
      "text/plain": [
       "<Figure size 1800x500 with 2 Axes>"
      ]
     },
     "metadata": {},
     "output_type": "display_data"
    }
   ],
   "source": [
    "plt.figure(figsize=(18,5))\n",
    "plt.subplot(1,3,1)\n",
    "plt.plot(all_rewards)\n",
    "plt.title('Total Reward per Episode')\n",
    "plt.xlabel('Episode')\n",
    "plt.ylabel('Total Reward')\n",
    "\n",
    "plt.subplot(1,3,2)\n",
    "plt.plot(all_profits)\n",
    "plt.title('Total Profit per Episode')\n",
    "plt.xlabel('Episode')\n",
    "plt.ylabel('Total Profit')\n",
    "\n",
    "plt.show()\n"
   ]
  },
  {
   "cell_type": "markdown",
   "metadata": {
    "id": "EesGhSFBq4z7"
   },
   "source": [
    "#### 7.2 Analyze Pricing Strategies"
   ]
  },
  {
   "cell_type": "code",
   "execution_count": 30,
   "metadata": {
    "colab": {
     "base_uri": "https://localhost:8080/",
     "height": 718
    },
    "id": "Wu4MXfW8q4z7",
    "outputId": "25691398-39eb-40a0-e7dd-5c9c1a81f6cc"
   },
   "outputs": [
    {
     "data": {
      "image/png": "[encoded data removed]",
      "text/plain": [
       "<Figure size 1200x800 with 1 Axes>"
      ]
     },
     "metadata": {},
     "output_type": "display_data"
    }
   ],
   "source": [
    "# Disable exploration\n",
    "agent.epsilon = 0.0\n",
    "\n",
    "# Reset environment\n",
    "state = env.reset()\n",
    "profits = []\n",
    "prices_history = {p: [] for p in products.keys()}\n",
    "sales_history = {p: [] for p in products.keys()}\n",
    "\n",
    "while not env.done:\n",
    "    # Select action\n",
    "    action_indices = agent.select_action(state)\n",
    "    action = [price_steps[idx] for idx in action_indices]\n",
    "\n",
    "    # Take action in environment\n",
    "    next_state, reward, done, info = env.step(action)\n",
    "\n",
    "    # Update state\n",
    "    state = next_state\n",
    "\n",
    "    # Record data\n",
    "    profits.append(info['profit'])\n",
    "    for product in products.keys():\n",
    "        prices_history[product].append(info['prices'][product])\n",
    "        sales_history[product].append(info['sales'][product])\n",
    "\n",
    "# Plot pricing strategies\n",
    "plt.figure(figsize=(12,8))\n",
    "for product in products.keys():\n",
    "    plt.plot(prices_history[product], label=product)\n",
    "plt.title('Pricing Strategies over Time')\n",
    "plt.xlabel('Time Step')\n",
    "plt.ylabel('Price')\n",
    "plt.legend()\n",
    "plt.show()\n"
   ]
  },
  {
   "cell_type": "markdown",
   "metadata": {
    "id": "61LI-KhIq4z7"
   },
   "source": [
    "#### 7.3 Compare Against Baseline Strategies"
   ]
  },
  {
   "cell_type": "code",
   "execution_count": 31,
   "metadata": {
    "id": "cEr_jZY7q4z7"
   },
   "outputs": [],
   "source": [
    "def baseline_strategy(env):\n",
    "    state = env.reset()\n",
    "    total_profit = 0\n",
    "    sales_history_baseline = {p: [] for p in products.keys()}\n",
    "    prices_history_baseline = {p: [] for p in products.keys()}\n",
    "    while not env.done:\n",
    "        action = [0] * num_products  # No price adjustments\n",
    "        next_state, reward, done, info = env.step(action)\n",
    "        total_profit += info['profit']\n",
    "        for product in products.keys():\n",
    "            sales_history_baseline[product].append(info['sales'][product])\n",
    "            prices_history_baseline[product].append(info['prices'][product])\n",
    "    return total_profit, sales_history_baseline, prices_history_baseline\n",
    "\n",
    "# Run baseline strategy\n",
    "baseline_profit, sales_history_baseline, prices_history_baseline = baseline_strategy(env)\n"
   ]
  },
  {
   "cell_type": "code",
   "execution_count": 32,
   "metadata": {
    "colab": {
     "base_uri": "https://localhost:8080/"
    },
    "id": "W5AwfQ_8q4z8",
    "outputId": "b7318565-ee73-4484-c8f9-29fe83aa013b"
   },
   "outputs": [
    {
     "name": "stdout",
     "output_type": "stream",
     "text": [
      "Total Profit - RL Agent: $2,965,824.25\n",
      "Total Profit - Baseline Strategy: $2,150,151.85\n",
      "Profit Improvement: 37.94%\n"
     ]
    }
   ],
   "source": [
    "rl_agent_profit = sum(profits)\n",
    "\n",
    "print(f\"Total Profit - RL Agent: ${rl_agent_profit:,.2f}\")\n",
    "print(f\"Total Profit - Baseline Strategy: ${baseline_profit:,.2f}\")\n",
    "profit_improvement = ((rl_agent_profit - baseline_profit) / baseline_profit) * 100\n",
    "print(f\"Profit Improvement: {profit_improvement:.2f}%\")\n"
   ]
  },
  {
   "cell_type": "code",
   "execution_count": 33,
   "metadata": {
    "colab": {
     "base_uri": "https://localhost:8080/"
    },
    "id": "bJ5JWroTq4z8",
    "outputId": "26e242ac-2239-446f-db72-26fc40d905bf"
   },
   "outputs": [
    {
     "name": "stdout",
     "output_type": "stream",
     "text": [
      "Average Daily Profit - RL Agent: $8,125.55\n",
      "Average Daily Profit - Baseline Strategy: $5,890.83\n"
     ]
    }
   ],
   "source": [
    "average_daily_profit_rl = rl_agent_profit / time_periods\n",
    "average_daily_profit_baseline = baseline_profit / time_periods\n",
    "print(f\"Average Daily Profit - RL Agent: ${average_daily_profit_rl:,.2f}\")\n",
    "print(f\"Average Daily Profit - Baseline Strategy: ${average_daily_profit_baseline:,.2f}\")\n"
   ]
  },
  {
   "cell_type": "code",
   "execution_count": 34,
   "metadata": {
    "colab": {
     "base_uri": "https://localhost:8080/",
     "height": 206
    },
    "id": "vB_6j_szq4z8",
    "outputId": "aaf593f9-b0e2-402c-f80b-b82e041ea189"
   },
   "outputs": [
    {
     "data": {
      "application/vnd.google.colaboratory.intrinsic+json": {
       "summary": "{\n  \"name\": \"sales_comparison\",\n  \"rows\": 5,\n  \"fields\": [\n    {\n      \"column\": \"Product\",\n      \"properties\": {\n        \"dtype\": \"string\",\n        \"num_unique_values\": 5,\n        \"samples\": [\n          \"Product B\",\n          \"Product E\",\n          \"Product C\"\n        ],\n        \"semantic_type\": \"\",\n        \"description\": \"\"\n      }\n    },\n    {\n      \"column\": \"Units Sold (RL Agent)\",\n      \"properties\": {\n        \"dtype\": \"number\",\n        \"std\": 40098.42847150427,\n        \"min\": 676.4398437630962,\n        \"max\": 95125.8744142007,\n        \"num_unique_values\": 5,\n        \"samples\": [\n          22544.493600855385,\n          676.4398437630962,\n          1528.6337649438785\n        ],\n        \"semantic_type\": \"\",\n        \"description\": \"\"\n      }\n    },\n    {\n      \"column\": \"Units Sold (Baseline)\",\n      \"properties\": {\n        \"dtype\": \"number\",\n        \"std\": 57821.8771771552,\n        \"min\": 741.3834625401043,\n        \"max\": 137561.0666424635,\n        \"num_unique_values\": 5,\n        \"samples\": [\n          22086.232911272113,\n          741.3834625401043,\n          1914.494417247443\n        ],\n        \"semantic_type\": \"\",\n        \"description\": \"\"\n      }\n    }\n  ]\n}",
       "type": "dataframe",
       "variable_name": "sales_comparison"
      },
      "text/html": [
       "\n",
       "  <div id=\"df-8cb01560-b3b9-4b55-8623-35085999aa1d\" class=\"colab-df-container\">\n",
       "    <div>\n",
       "<style scoped>\n",
       "    .dataframe tbody tr th:only-of-type {\n",
       "        vertical-align: middle;\n",
       "    }\n",
       "\n",
       "    .dataframe tbody tr th {\n",
       "        vertical-align: top;\n",
       "    }\n",
       "\n",
       "    .dataframe thead th {\n",
       "        text-align: right;\n",
       "    }\n",
       "</style>\n",
       "<table border=\"1\" class=\"dataframe\">\n",
       "  <thead>\n",
       "    <tr style=\"text-align: right;\">\n",
       "      <th></th>\n",
       "      <th>Product</th>\n",
       "      <th>Units Sold (RL Agent)</th>\n",
       "      <th>Units Sold (Baseline)</th>\n",
       "    </tr>\n",
       "  </thead>\n",
       "  <tbody>\n",
       "    <tr>\n",
       "      <th>0</th>\n",
       "      <td>Product A</td>\n",
       "      <td>5883.445400</td>\n",
       "      <td>14499.114305</td>\n",
       "    </tr>\n",
       "    <tr>\n",
       "      <th>1</th>\n",
       "      <td>Product B</td>\n",
       "      <td>22544.493601</td>\n",
       "      <td>22086.232911</td>\n",
       "    </tr>\n",
       "    <tr>\n",
       "      <th>2</th>\n",
       "      <td>Product C</td>\n",
       "      <td>1528.633765</td>\n",
       "      <td>1914.494417</td>\n",
       "    </tr>\n",
       "    <tr>\n",
       "      <th>3</th>\n",
       "      <td>Product D</td>\n",
       "      <td>95125.874414</td>\n",
       "      <td>137561.066642</td>\n",
       "    </tr>\n",
       "    <tr>\n",
       "      <th>4</th>\n",
       "      <td>Product E</td>\n",
       "      <td>676.439844</td>\n",
       "      <td>741.383463</td>\n",
       "    </tr>\n",
       "  </tbody>\n",
       "</table>\n",
       "</div>\n",
       "    <div class=\"colab-df-buttons\">\n",
       "\n",
       "  <div class=\"colab-df-container\">\n",
       "    <button class=\"colab-df-convert\" onclick=\"convertToInteractive('df-8cb01560-b3b9-4b55-8623-35085999aa1d')\"\n",
       "            title=\"Convert this dataframe to an interactive table.\"\n",
       "            style=\"display:none;\">\n",
       "\n",
       "  <svg xmlns=\"http://www.w3.org/2000/svg\" height=\"24px\" viewBox=\"0 -960 960 960\">\n",
       "    <path d=\"M120-120v-720h720v720H120Zm60-500h600v-160H180v160Zm220 220h160v-160H400v160Zm0 220h160v-160H400v160ZM180-400h160v-160H180v160Zm440 0h160v-160H620v160ZM180-180h160v-160H180v160Zm440 0h160v-160H620v160Z\"/>\n",
       "  </svg>\n",
       "    </button>\n",
       "\n",
       "  <style>\n",
       "    .colab-df-container {\n",
       "      display:flex;\n",
       "      gap: 12px;\n",
       "    }\n",
       "\n",
       "    .colab-df-convert {\n",
       "      background-color: #E8F0FE;\n",
       "      border: none;\n",
       "      border-radius: 50%;\n",
       "      cursor: pointer;\n",
       "      display: none;\n",
       "      fill: #1967D2;\n",
       "      height: 32px;\n",
       "      padding: 0 0 0 0;\n",
       "      width: 32px;\n",
       "    }\n",
       "\n",
       "    .colab-df-convert:hover {\n",
       "      background-color: #E2EBFA;\n",
       "      box-shadow: 0px 1px 2px rgba(60, 64, 67, 0.3), 0px 1px 3px 1px rgba(60, 64, 67, 0.15);\n",
       "      fill: #174EA6;\n",
       "    }\n",
       "\n",
       "    .colab-df-buttons div {\n",
       "      margin-bottom: 4px;\n",
       "    }\n",
       "\n",
       "    [theme=dark] .colab-df-convert {\n",
       "      background-color: #3B4455;\n",
       "      fill: #D2E3FC;\n",
       "    }\n",
       "\n",
       "    [theme=dark] .colab-df-convert:hover {\n",
       "      background-color: #434B5C;\n",
       "      box-shadow: 0px 1px 3px 1px rgba(0, 0, 0, 0.15);\n",
       "      filter: drop-shadow(0px 1px 2px rgba(0, 0, 0, 0.3));\n",
       "      fill: #FFFFFF;\n",
       "    }\n",
       "  </style>\n",
       "\n",
       "    <script>\n",
       "      const buttonEl =\n",
       "        document.querySelector('#df-8cb01560-b3b9-4b55-8623-35085999aa1d button.colab-df-convert');\n",
       "      buttonEl.style.display =\n",
       "        google.colab.kernel.accessAllowed ? 'block' : 'none';\n",
       "\n",
       "      async function convertToInteractive(key) {\n",
       "        const element = document.querySelector('#df-8cb01560-b3b9-4b55-8623-35085999aa1d');\n",
       "        const dataTable =\n",
       "          await google.colab.kernel.invokeFunction('convertToInteractive',\n",
       "                                                    [key], {});\n",
       "        if (!dataTable) return;\n",
       "\n",
       "        const docLinkHtml = 'Like what you see? Visit the ' +\n",
       "          '<a target=\"_blank\" href=https://colab.research.google.com/notebooks/data_table.ipynb>data table notebook</a>'\n",
       "          + ' to learn more about interactive tables.';\n",
       "        element.innerHTML = '';\n",
       "        dataTable['output_type'] = 'display_data';\n",
       "        await google.colab.output.renderOutput(dataTable, element);\n",
       "        const docLink = document.createElement('div');\n",
       "        docLink.innerHTML = docLinkHtml;\n",
       "        element.appendChild(docLink);\n",
       "      }\n",
       "    </script>\n",
       "  </div>\n",
       "\n",
       "\n",
       "<div id=\"df-b097bf5c-d3a4-41f1-b783-e426f6964e92\">\n",
       "  <button class=\"colab-df-quickchart\" onclick=\"quickchart('df-b097bf5c-d3a4-41f1-b783-e426f6964e92')\"\n",
       "            title=\"Suggest charts\"\n",
       "            style=\"display:none;\">\n",
       "\n",
       "<svg xmlns=\"http://www.w3.org/2000/svg\" height=\"24px\"viewBox=\"0 0 24 24\"\n",
       "     width=\"24px\">\n",
       "    <g>\n",
       "        <path d=\"M19 3H5c-1.1 0-2 .9-2 2v14c0 1.1.9 2 2 2h14c1.1 0 2-.9 2-2V5c0-1.1-.9-2-2-2zM9 17H7v-7h2v7zm4 0h-2V7h2v10zm4 0h-2v-4h2v4z\"/>\n",
       "    </g>\n",
       "</svg>\n",
       "  </button>\n",
       "\n",
       "<style>\n",
       "  .colab-df-quickchart {\n",
       "      --bg-color: #E8F0FE;\n",
       "      --fill-color: #1967D2;\n",
       "      --hover-bg-color: #E2EBFA;\n",
       "      --hover-fill-color: #174EA6;\n",
       "      --disabled-fill-color: #AAA;\n",
       "      --disabled-bg-color: #DDD;\n",
       "  }\n",
       "\n",
       "  [theme=dark] .colab-df-quickchart {\n",
       "      --bg-color: #3B4455;\n",
       "      --fill-color: #D2E3FC;\n",
       "      --hover-bg-color: #434B5C;\n",
       "      --hover-fill-color: #FFFFFF;\n",
       "      --disabled-bg-color: #3B4455;\n",
       "      --disabled-fill-color: #666;\n",
       "  }\n",
       "\n",
       "  .colab-df-quickchart {\n",
       "    background-color: var(--bg-color);\n",
       "    border: none;\n",
       "    border-radius: 50%;\n",
       "    cursor: pointer;\n",
       "    display: none;\n",
       "    fill: var(--fill-color);\n",
       "    height: 32px;\n",
       "    padding: 0;\n",
       "    width: 32px;\n",
       "  }\n",
       "\n",
       "  .colab-df-quickchart:hover {\n",
       "    background-color: var(--hover-bg-color);\n",
       "    box-shadow: 0 1px 2px rgba(60, 64, 67, 0.3), 0 1px 3px 1px rgba(60, 64, 67, 0.15);\n",
       "    fill: var(--button-hover-fill-color);\n",
       "  }\n",
       "\n",
       "  .colab-df-quickchart-complete:disabled,\n",
       "  .colab-df-quickchart-complete:disabled:hover {\n",
       "    background-color: var(--disabled-bg-color);\n",
       "    fill: var(--disabled-fill-color);\n",
       "    box-shadow: none;\n",
       "  }\n",
       "\n",
       "  .colab-df-spinner {\n",
       "    border: 2px solid var(--fill-color);\n",
       "    border-color: transparent;\n",
       "    border-bottom-color: var(--fill-color);\n",
       "    animation:\n",
       "      spin 1s steps(1) infinite;\n",
       "  }\n",
       "\n",
       "  @keyframes spin {\n",
       "    0% {\n",
       "      border-color: transparent;\n",
       "      border-bottom-color: var(--fill-color);\n",
       "      border-left-color: var(--fill-color);\n",
       "    }\n",
       "    20% {\n",
       "      border-color: transparent;\n",
       "      border-left-color: var(--fill-color);\n",
       "      border-top-color: var(--fill-color);\n",
       "    }\n",
       "    30% {\n",
       "      border-color: transparent;\n",
       "      border-left-color: var(--fill-color);\n",
       "      border-top-color: var(--fill-color);\n",
       "      border-right-color: var(--fill-color);\n",
       "    }\n",
       "    40% {\n",
       "      border-color: transparent;\n",
       "      border-right-color: var(--fill-color);\n",
       "      border-top-color: var(--fill-color);\n",
       "    }\n",
       "    60% {\n",
       "      border-color: transparent;\n",
       "      border-right-color: var(--fill-color);\n",
       "    }\n",
       "    80% {\n",
       "      border-color: transparent;\n",
       "      border-right-color: var(--fill-color);\n",
       "      border-bottom-color: var(--fill-color);\n",
       "    }\n",
       "    90% {\n",
       "      border-color: transparent;\n",
       "      border-bottom-color: var(--fill-color);\n",
       "    }\n",
       "  }\n",
       "</style>\n",
       "\n",
       "  <script>\n",
       "    async function quickchart(key) {\n",
       "      const quickchartButtonEl =\n",
       "        document.querySelector('#' + key + ' button');\n",
       "      quickchartButtonEl.disabled = true;  // To prevent multiple clicks.\n",
       "      quickchartButtonEl.classList.add('colab-df-spinner');\n",
       "      try {\n",
       "        const charts = await google.colab.kernel.invokeFunction(\n",
       "            'suggestCharts', [key], {});\n",
       "      } catch (error) {\n",
       "        console.error('Error during call to suggestCharts:', error);\n",
       "      }\n",
       "      quickchartButtonEl.classList.remove('colab-df-spinner');\n",
       "      quickchartButtonEl.classList.add('colab-df-quickchart-complete');\n",
       "    }\n",
       "    (() => {\n",
       "      let quickchartButtonEl =\n",
       "        document.querySelector('#df-b097bf5c-d3a4-41f1-b783-e426f6964e92 button');\n",
       "      quickchartButtonEl.style.display =\n",
       "        google.colab.kernel.accessAllowed ? 'block' : 'none';\n",
       "    })();\n",
       "  </script>\n",
       "</div>\n",
       "\n",
       "  <div id=\"id_3b642cf7-a8fd-4241-9d05-b0d646ad77e0\">\n",
       "    <style>\n",
       "      .colab-df-generate {\n",
       "        background-color: #E8F0FE;\n",
       "        border: none;\n",
       "        border-radius: 50%;\n",
       "        cursor: pointer;\n",
       "        display: none;\n",
       "        fill: #1967D2;\n",
       "        height: 32px;\n",
       "        padding: 0 0 0 0;\n",
       "        width: 32px;\n",
       "      }\n",
       "\n",
       "      .colab-df-generate:hover {\n",
       "        background-color: #E2EBFA;\n",
       "        box-shadow: 0px 1px 2px rgba(60, 64, 67, 0.3), 0px 1px 3px 1px rgba(60, 64, 67, 0.15);\n",
       "        fill: #174EA6;\n",
       "      }\n",
       "\n",
       "      [theme=dark] .colab-df-generate {\n",
       "        background-color: #3B4455;\n",
       "        fill: #D2E3FC;\n",
       "      }\n",
       "\n",
       "      [theme=dark] .colab-df-generate:hover {\n",
       "        background-color: #434B5C;\n",
       "        box-shadow: 0px 1px 3px 1px rgba(0, 0, 0, 0.15);\n",
       "        filter: drop-shadow(0px 1px 2px rgba(0, 0, 0, 0.3));\n",
       "        fill: #FFFFFF;\n",
       "      }\n",
       "    </style>\n",
       "    <button class=\"colab-df-generate\" onclick=\"generateWithVariable('sales_comparison')\"\n",
       "            title=\"Generate code using this dataframe.\"\n",
       "            style=\"display:none;\">\n",
       "\n",
       "  <svg xmlns=\"http://www.w3.org/2000/svg\" height=\"24px\"viewBox=\"0 0 24 24\"\n",
       "       width=\"24px\">\n",
       "    <path d=\"M7,19H8.4L18.45,9,17,7.55,7,17.6ZM5,21V16.75L18.45,3.32a2,2,0,0,1,2.83,0l1.4,1.43a1.91,1.91,0,0,1,.58,1.4,1.91,1.91,0,0,1-.58,1.4L9.25,21ZM18.45,9,17,7.55Zm-12,3A5.31,5.31,0,0,0,4.9,8.1,5.31,5.31,0,0,0,1,6.5,5.31,5.31,0,0,0,4.9,4.9,5.31,5.31,0,0,0,6.5,1,5.31,5.31,0,0,0,8.1,4.9,5.31,5.31,0,0,0,12,6.5,5.46,5.46,0,0,0,6.5,12Z\"/>\n",
       "  </svg>\n",
       "    </button>\n",
       "    <script>\n",
       "      (() => {\n",
       "      const buttonEl =\n",
       "        document.querySelector('#id_3b642cf7-a8fd-4241-9d05-b0d646ad77e0 button.colab-df-generate');\n",
       "      buttonEl.style.display =\n",
       "        google.colab.kernel.accessAllowed ? 'block' : 'none';\n",
       "\n",
       "      buttonEl.onclick = () => {\n",
       "        google.colab.notebook.generateWithVariable('sales_comparison');\n",
       "      }\n",
       "      })();\n",
       "    </script>\n",
       "  </div>\n",
       "\n",
       "    </div>\n",
       "  </div>\n"
      ],
      "text/plain": [
       "     Product  Units Sold (RL Agent)  Units Sold (Baseline)\n",
       "0  Product A            5883.445400           14499.114305\n",
       "1  Product B           22544.493601           22086.232911\n",
       "2  Product C            1528.633765            1914.494417\n",
       "3  Product D           95125.874414          137561.066642\n",
       "4  Product E             676.439844             741.383463"
      ]
     },
     "execution_count": 34,
     "metadata": {},
     "output_type": "execute_result"
    }
   ],
   "source": [
    "# Calculate total units sold for each product\n",
    "total_units_sold_rl = {product: sum(sales_history[product]) for product in products.keys()}\n",
    "total_units_sold_baseline = {product: sum(sales_history_baseline[product]) for product in products.keys()}\n",
    "\n",
    "# Create a DataFrame for comparison\n",
    "sales_comparison = pd.DataFrame({\n",
    "    'Product': products.keys(),\n",
    "    'Units Sold (RL Agent)': total_units_sold_rl.values(),\n",
    "    'Units Sold (Baseline)': total_units_sold_baseline.values()\n",
    "})\n",
    "\n",
    "sales_comparison\n"
   ]
  },
  {
   "cell_type": "code",
   "execution_count": 35,
   "metadata": {
    "colab": {
     "base_uri": "https://localhost:8080/",
     "height": 206
    },
    "id": "QLgNac5zq4z8",
    "outputId": "886cef26-ae95-41e8-abf1-cef2751a89f8"
   },
   "outputs": [
    {
     "data": {
      "application/vnd.google.colaboratory.intrinsic+json": {
       "summary": "{\n  \"name\": \"price_comparison\",\n  \"rows\": 5,\n  \"fields\": [\n    {\n      \"column\": \"Product\",\n      \"properties\": {\n        \"dtype\": \"string\",\n        \"num_unique_values\": 5,\n        \"samples\": [\n          \"Product B\",\n          \"Product E\",\n          \"Product C\"\n        ],\n        \"semantic_type\": \"\",\n        \"description\": \"\"\n      }\n    },\n    {\n      \"column\": \"Avg. Selling Price (RL Agent)\",\n      \"properties\": {\n        \"dtype\": \"number\",\n        \"std\": 74.65687319300147,\n        \"min\": 37.40958904109589,\n        \"max\": 217.3972602739726,\n        \"num_unique_values\": 5,\n        \"samples\": [\n          40.0,\n          217.3972602739726,\n          118.9068493150685\n        ],\n        \"semantic_type\": \"\",\n        \"description\": \"\"\n      }\n    },\n    {\n      \"column\": \"Avg. Selling Price (Baseline)\",\n      \"properties\": {\n        \"dtype\": \"number\",\n        \"std\": 49.54795656734998,\n        \"min\": 25.0,\n        \"max\": 150.0,\n        \"num_unique_values\": 5,\n        \"samples\": [\n          40.0,\n          150.0,\n          80.0\n        ],\n        \"semantic_type\": \"\",\n        \"description\": \"\"\n      }\n    }\n  ]\n}",
       "type": "dataframe",
       "variable_name": "price_comparison"
      },
      "text/html": [
       "\n",
       "  <div id=\"df-b62d91b1-d644-4bc2-b0e6-881bdccfcf90\" class=\"colab-df-container\">\n",
       "    <div>\n",
       "<style scoped>\n",
       "    .dataframe tbody tr th:only-of-type {\n",
       "        vertical-align: middle;\n",
       "    }\n",
       "\n",
       "    .dataframe tbody tr th {\n",
       "        vertical-align: top;\n",
       "    }\n",
       "\n",
       "    .dataframe thead th {\n",
       "        text-align: right;\n",
       "    }\n",
       "</style>\n",
       "<table border=\"1\" class=\"dataframe\">\n",
       "  <thead>\n",
       "    <tr style=\"text-align: right;\">\n",
       "      <th></th>\n",
       "      <th>Product</th>\n",
       "      <th>Avg. Selling Price (RL Agent)</th>\n",
       "      <th>Avg. Selling Price (Baseline)</th>\n",
       "    </tr>\n",
       "  </thead>\n",
       "  <tbody>\n",
       "    <tr>\n",
       "      <th>0</th>\n",
       "      <td>Product A</td>\n",
       "      <td>74.178082</td>\n",
       "      <td>50.0</td>\n",
       "    </tr>\n",
       "    <tr>\n",
       "      <th>1</th>\n",
       "      <td>Product B</td>\n",
       "      <td>40.000000</td>\n",
       "      <td>40.0</td>\n",
       "    </tr>\n",
       "    <tr>\n",
       "      <th>2</th>\n",
       "      <td>Product C</td>\n",
       "      <td>118.906849</td>\n",
       "      <td>80.0</td>\n",
       "    </tr>\n",
       "    <tr>\n",
       "      <th>3</th>\n",
       "      <td>Product D</td>\n",
       "      <td>37.409589</td>\n",
       "      <td>25.0</td>\n",
       "    </tr>\n",
       "    <tr>\n",
       "      <th>4</th>\n",
       "      <td>Product E</td>\n",
       "      <td>217.397260</td>\n",
       "      <td>150.0</td>\n",
       "    </tr>\n",
       "  </tbody>\n",
       "</table>\n",
       "</div>\n",
       "    <div class=\"colab-df-buttons\">\n",
       "\n",
       "  <div class=\"colab-df-container\">\n",
       "    <button class=\"colab-df-convert\" onclick=\"convertToInteractive('df-b62d91b1-d644-4bc2-b0e6-881bdccfcf90')\"\n",
       "            title=\"Convert this dataframe to an interactive table.\"\n",
       "            style=\"display:none;\">\n",
       "\n",
       "  <svg xmlns=\"http://www.w3.org/2000/svg\" height=\"24px\" viewBox=\"0 -960 960 960\">\n",
       "    <path d=\"M120-120v-720h720v720H120Zm60-500h600v-160H180v160Zm220 220h160v-160H400v160Zm0 220h160v-160H400v160ZM180-400h160v-160H180v160Zm440 0h160v-160H620v160ZM180-180h160v-160H180v160Zm440 0h160v-160H620v160Z\"/>\n",
       "  </svg>\n",
       "    </button>\n",
       "\n",
       "  <style>\n",
       "    .colab-df-container {\n",
       "      display:flex;\n",
       "      gap: 12px;\n",
       "    }\n",
       "\n",
       "    .colab-df-convert {\n",
       "      background-color: #E8F0FE;\n",
       "      border: none;\n",
       "      border-radius: 50%;\n",
       "      cursor: pointer;\n",
       "      display: none;\n",
       "      fill: #1967D2;\n",
       "      height: 32px;\n",
       "      padding: 0 0 0 0;\n",
       "      width: 32px;\n",
       "    }\n",
       "\n",
       "    .colab-df-convert:hover {\n",
       "      background-color: #E2EBFA;\n",
       "      box-shadow: 0px 1px 2px rgba(60, 64, 67, 0.3), 0px 1px 3px 1px rgba(60, 64, 67, 0.15);\n",
       "      fill: #174EA6;\n",
       "    }\n",
       "\n",
       "    .colab-df-buttons div {\n",
       "      margin-bottom: 4px;\n",
       "    }\n",
       "\n",
       "    [theme=dark] .colab-df-convert {\n",
       "      background-color: #3B4455;\n",
       "      fill: #D2E3FC;\n",
       "    }\n",
       "\n",
       "    [theme=dark] .colab-df-convert:hover {\n",
       "      background-color: #434B5C;\n",
       "      box-shadow: 0px 1px 3px 1px rgba(0, 0, 0, 0.15);\n",
       "      filter: drop-shadow(0px 1px 2px rgba(0, 0, 0, 0.3));\n",
       "      fill: #FFFFFF;\n",
       "    }\n",
       "  </style>\n",
       "\n",
       "    <script>\n",
       "      const buttonEl =\n",
       "        document.querySelector('#df-b62d91b1-d644-4bc2-b0e6-881bdccfcf90 button.colab-df-convert');\n",
       "      buttonEl.style.display =\n",
       "        google.colab.kernel.accessAllowed ? 'block' : 'none';\n",
       "\n",
       "      async function convertToInteractive(key) {\n",
       "        const element = document.querySelector('#df-b62d91b1-d644-4bc2-b0e6-881bdccfcf90');\n",
       "        const dataTable =\n",
       "          await google.colab.kernel.invokeFunction('convertToInteractive',\n",
       "                                                    [key], {});\n",
       "        if (!dataTable) return;\n",
       "\n",
       "        const docLinkHtml = 'Like what you see? Visit the ' +\n",
       "          '<a target=\"_blank\" href=https://colab.research.google.com/notebooks/data_table.ipynb>data table notebook</a>'\n",
       "          + ' to learn more about interactive tables.';\n",
       "        element.innerHTML = '';\n",
       "        dataTable['output_type'] = 'display_data';\n",
       "        await google.colab.output.renderOutput(dataTable, element);\n",
       "        const docLink = document.createElement('div');\n",
       "        docLink.innerHTML = docLinkHtml;\n",
       "        element.appendChild(docLink);\n",
       "      }\n",
       "    </script>\n",
       "  </div>\n",
       "\n",
       "\n",
       "<div id=\"df-e446969a-0284-430d-808a-e0890fb9b072\">\n",
       "  <button class=\"colab-df-quickchart\" onclick=\"quickchart('df-e446969a-0284-430d-808a-e0890fb9b072')\"\n",
       "            title=\"Suggest charts\"\n",
       "            style=\"display:none;\">\n",
       "\n",
       "<svg xmlns=\"http://www.w3.org/2000/svg\" height=\"24px\"viewBox=\"0 0 24 24\"\n",
       "     width=\"24px\">\n",
       "    <g>\n",
       "        <path d=\"M19 3H5c-1.1 0-2 .9-2 2v14c0 1.1.9 2 2 2h14c1.1 0 2-.9 2-2V5c0-1.1-.9-2-2-2zM9 17H7v-7h2v7zm4 0h-2V7h2v10zm4 0h-2v-4h2v4z\"/>\n",
       "    </g>\n",
       "</svg>\n",
       "  </button>\n",
       "\n",
       "<style>\n",
       "  .colab-df-quickchart {\n",
       "      --bg-color: #E8F0FE;\n",
       "      --fill-color: #1967D2;\n",
       "      --hover-bg-color: #E2EBFA;\n",
       "      --hover-fill-color: #174EA6;\n",
       "      --disabled-fill-color: #AAA;\n",
       "      --disabled-bg-color: #DDD;\n",
       "  }\n",
       "\n",
       "  [theme=dark] .colab-df-quickchart {\n",
       "      --bg-color: #3B4455;\n",
       "      --fill-color: #D2E3FC;\n",
       "      --hover-bg-color: #434B5C;\n",
       "      --hover-fill-color: #FFFFFF;\n",
       "      --disabled-bg-color: #3B4455;\n",
       "      --disabled-fill-color: #666;\n",
       "  }\n",
       "\n",
       "  .colab-df-quickchart {\n",
       "    background-color: var(--bg-color);\n",
       "    border: none;\n",
       "    border-radius: 50%;\n",
       "    cursor: pointer;\n",
       "    display: none;\n",
       "    fill: var(--fill-color);\n",
       "    height: 32px;\n",
       "    padding: 0;\n",
       "    width: 32px;\n",
       "  }\n",
       "\n",
       "  .colab-df-quickchart:hover {\n",
       "    background-color: var(--hover-bg-color);\n",
       "    box-shadow: 0 1px 2px rgba(60, 64, 67, 0.3), 0 1px 3px 1px rgba(60, 64, 67, 0.15);\n",
       "    fill: var(--button-hover-fill-color);\n",
       "  }\n",
       "\n",
       "  .colab-df-quickchart-complete:disabled,\n",
       "  .colab-df-quickchart-complete:disabled:hover {\n",
       "    background-color: var(--disabled-bg-color);\n",
       "    fill: var(--disabled-fill-color);\n",
       "    box-shadow: none;\n",
       "  }\n",
       "\n",
       "  .colab-df-spinner {\n",
       "    border: 2px solid var(--fill-color);\n",
       "    border-color: transparent;\n",
       "    border-bottom-color: var(--fill-color);\n",
       "    animation:\n",
       "      spin 1s steps(1) infinite;\n",
       "  }\n",
       "\n",
       "  @keyframes spin {\n",
       "    0% {\n",
       "      border-color: transparent;\n",
       "      border-bottom-color: var(--fill-color);\n",
       "      border-left-color: var(--fill-color);\n",
       "    }\n",
       "    20% {\n",
       "      border-color: transparent;\n",
       "      border-left-color: var(--fill-color);\n",
       "      border-top-color: var(--fill-color);\n",
       "    }\n",
       "    30% {\n",
       "      border-color: transparent;\n",
       "      border-left-color: var(--fill-color);\n",
       "      border-top-color: var(--fill-color);\n",
       "      border-right-color: var(--fill-color);\n",
       "    }\n",
       "    40% {\n",
       "      border-color: transparent;\n",
       "      border-right-color: var(--fill-color);\n",
       "      border-top-color: var(--fill-color);\n",
       "    }\n",
       "    60% {\n",
       "      border-color: transparent;\n",
       "      border-right-color: var(--fill-color);\n",
       "    }\n",
       "    80% {\n",
       "      border-color: transparent;\n",
       "      border-right-color: var(--fill-color);\n",
       "      border-bottom-color: var(--fill-color);\n",
       "    }\n",
       "    90% {\n",
       "      border-color: transparent;\n",
       "      border-bottom-color: var(--fill-color);\n",
       "    }\n",
       "  }\n",
       "</style>\n",
       "\n",
       "  <script>\n",
       "    async function quickchart(key) {\n",
       "      const quickchartButtonEl =\n",
       "        document.querySelector('#' + key + ' button');\n",
       "      quickchartButtonEl.disabled = true;  // To prevent multiple clicks.\n",
       "      quickchartButtonEl.classList.add('colab-df-spinner');\n",
       "      try {\n",
       "        const charts = await google.colab.kernel.invokeFunction(\n",
       "            'suggestCharts', [key], {});\n",
       "      } catch (error) {\n",
       "        console.error('Error during call to suggestCharts:', error);\n",
       "      }\n",
       "      quickchartButtonEl.classList.remove('colab-df-spinner');\n",
       "      quickchartButtonEl.classList.add('colab-df-quickchart-complete');\n",
       "    }\n",
       "    (() => {\n",
       "      let quickchartButtonEl =\n",
       "        document.querySelector('#df-e446969a-0284-430d-808a-e0890fb9b072 button');\n",
       "      quickchartButtonEl.style.display =\n",
       "        google.colab.kernel.accessAllowed ? 'block' : 'none';\n",
       "    })();\n",
       "  </script>\n",
       "</div>\n",
       "\n",
       "  <div id=\"id_98347c3c-83db-49e8-a616-d7a5b8f76ece\">\n",
       "    <style>\n",
       "      .colab-df-generate {\n",
       "        background-color: #E8F0FE;\n",
       "        border: none;\n",
       "        border-radius: 50%;\n",
       "        cursor: pointer;\n",
       "        display: none;\n",
       "        fill: #1967D2;\n",
       "        height: 32px;\n",
       "        padding: 0 0 0 0;\n",
       "        width: 32px;\n",
       "      }\n",
       "\n",
       "      .colab-df-generate:hover {\n",
       "        background-color: #E2EBFA;\n",
       "        box-shadow: 0px 1px 2px rgba(60, 64, 67, 0.3), 0px 1px 3px 1px rgba(60, 64, 67, 0.15);\n",
       "        fill: #174EA6;\n",
       "      }\n",
       "\n",
       "      [theme=dark] .colab-df-generate {\n",
       "        background-color: #3B4455;\n",
       "        fill: #D2E3FC;\n",
       "      }\n",
       "\n",
       "      [theme=dark] .colab-df-generate:hover {\n",
       "        background-color: #434B5C;\n",
       "        box-shadow: 0px 1px 3px 1px rgba(0, 0, 0, 0.15);\n",
       "        filter: drop-shadow(0px 1px 2px rgba(0, 0, 0, 0.3));\n",
       "        fill: #FFFFFF;\n",
       "      }\n",
       "    </style>\n",
       "    <button class=\"colab-df-generate\" onclick=\"generateWithVariable('price_comparison')\"\n",
       "            title=\"Generate code using this dataframe.\"\n",
       "            style=\"display:none;\">\n",
       "\n",
       "  <svg xmlns=\"http://www.w3.org/2000/svg\" height=\"24px\"viewBox=\"0 0 24 24\"\n",
       "       width=\"24px\">\n",
       "    <path d=\"M7,19H8.4L18.45,9,17,7.55,7,17.6ZM5,21V16.75L18.45,3.32a2,2,0,0,1,2.83,0l1.4,1.43a1.91,1.91,0,0,1,.58,1.4,1.91,1.91,0,0,1-.58,1.4L9.25,21ZM18.45,9,17,7.55Zm-12,3A5.31,5.31,0,0,0,4.9,8.1,5.31,5.31,0,0,0,1,6.5,5.31,5.31,0,0,0,4.9,4.9,5.31,5.31,0,0,0,6.5,1,5.31,5.31,0,0,0,8.1,4.9,5.31,5.31,0,0,0,12,6.5,5.46,5.46,0,0,0,6.5,12Z\"/>\n",
       "  </svg>\n",
       "    </button>\n",
       "    <script>\n",
       "      (() => {\n",
       "      const buttonEl =\n",
       "        document.querySelector('#id_98347c3c-83db-49e8-a616-d7a5b8f76ece button.colab-df-generate');\n",
       "      buttonEl.style.display =\n",
       "        google.colab.kernel.accessAllowed ? 'block' : 'none';\n",
       "\n",
       "      buttonEl.onclick = () => {\n",
       "        google.colab.notebook.generateWithVariable('price_comparison');\n",
       "      }\n",
       "      })();\n",
       "    </script>\n",
       "  </div>\n",
       "\n",
       "    </div>\n",
       "  </div>\n"
      ],
      "text/plain": [
       "     Product  Avg. Selling Price (RL Agent)  Avg. Selling Price (Baseline)\n",
       "0  Product A                      74.178082                           50.0\n",
       "1  Product B                      40.000000                           40.0\n",
       "2  Product C                     118.906849                           80.0\n",
       "3  Product D                      37.409589                           25.0\n",
       "4  Product E                     217.397260                          150.0"
      ]
     },
     "execution_count": 35,
     "metadata": {},
     "output_type": "execute_result"
    }
   ],
   "source": [
    "# Calculate average selling price for each product\n",
    "average_price_rl = {product: np.mean(prices_history[product]) for product in products.keys()}\n",
    "average_price_baseline = {product: np.mean(prices_history_baseline[product]) for product in products.keys()}\n",
    "\n",
    "# Create a DataFrame for comparison\n",
    "price_comparison = pd.DataFrame({\n",
    "    'Product': products.keys(),\n",
    "    'Avg. Selling Price (RL Agent)': average_price_rl.values(),\n",
    "    'Avg. Selling Price (Baseline)': average_price_baseline.values()\n",
    "})\n",
    "\n",
    "price_comparison\n"
   ]
  },
  {
   "cell_type": "code",
   "execution_count": 36,
   "metadata": {
    "colab": {
     "base_uri": "https://localhost:8080/",
     "height": 564
    },
    "id": "GEzuVXPPq4z9",
    "outputId": "0fa2652c-478f-4ffb-9741-6cd34b4a4001"
   },
   "outputs": [
    {
     "data": {
      "image/png": "[encoded data removed]",
      "text/plain": [
       "<Figure size 1200x600 with 1 Axes>"
      ]
     },
     "metadata": {},
     "output_type": "display_data"
    }
   ],
   "source": [
    "# Plot profit comparison\n",
    "plt.figure(figsize=(12,6))\n",
    "plt.plot(np.cumsum(profits), label='RL Agent')\n",
    "plt.plot(np.cumsum([baseline_profit/time_periods]*time_periods), label='Baseline Strategy')\n",
    "plt.title('Cumulative Profit Comparison')\n",
    "plt.xlabel('Time Step')\n",
    "plt.ylabel('Cumulative Profit')\n",
    "plt.legend()\n",
    "plt.show()\n"
   ]
  }
 ],
 "metadata": {
  "accelerator": "GPU",
  "colab": {
   "gpuType": "T4",
   "provenance": []
  },
  "kernelspec": {
   "display_name": "Python 3 (ipykernel)",
   "language": "python",
   "name": "python3"
  },
  "language_info": {
   "codemirror_mode": {
    "name": "ipython",
    "version": 3
   },
   "file_extension": ".py",
   "mimetype": "text/x-python",
   "name": "python",
   "nbconvert_exporter": "python",
   "pygments_lexer": "ipython3",
   "version": "3.10.9"
  }
 },
 "nbformat": 4,
 "nbformat_minor": 1
}
